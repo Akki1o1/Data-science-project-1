{
 "cells": [
  {
   "cell_type": "code",
   "execution_count": 1,
   "id": "5564328a",
   "metadata": {},
   "outputs": [],
   "source": [
    "import matplotlib.pyplot as plt\n",
    "import numpy as np\n",
    "import pandas as pd\n",
    "import seaborn as sns\n",
    "from sklearn.preprocessing import LabelEncoder\n",
    "from sklearn.preprocessing import StandardScaler\n",
    "from scipy import stats\n",
    "import math as mt\n",
    "from math import sqrt\n",
    "from sklearn.feature_selection import SelectKBest\n",
    "from sklearn.feature_selection import chi2"
   ]
  },
  {
   "cell_type": "code",
   "execution_count": 2,
   "id": "91932553",
   "metadata": {},
   "outputs": [],
   "source": [
    "df=pd.read_csv(\"C:/Users/akhilesh rai/Downloads/Dentistry Dataset.csv\")"
   ]
  },
  {
   "cell_type": "code",
   "execution_count": 3,
   "id": "02d06988",
   "metadata": {},
   "outputs": [
    {
     "data": {
      "text/html": [
       "<div>\n",
       "<style scoped>\n",
       "    .dataframe tbody tr th:only-of-type {\n",
       "        vertical-align: middle;\n",
       "    }\n",
       "\n",
       "    .dataframe tbody tr th {\n",
       "        vertical-align: top;\n",
       "    }\n",
       "\n",
       "    .dataframe thead th {\n",
       "        text-align: right;\n",
       "    }\n",
       "</style>\n",
       "<table border=\"1\" class=\"dataframe\">\n",
       "  <thead>\n",
       "    <tr style=\"text-align: right;\">\n",
       "      <th></th>\n",
       "      <th>Sl No</th>\n",
       "      <th>Sample ID</th>\n",
       "      <th>Age</th>\n",
       "      <th>Gender</th>\n",
       "      <th>inter canine distance intraoral</th>\n",
       "      <th>intercanine distance casts</th>\n",
       "      <th>right canine width intraoral</th>\n",
       "      <th>right canine width casts</th>\n",
       "      <th>left canine width intraoral</th>\n",
       "      <th>left canine width casts</th>\n",
       "      <th>right canine index intra oral</th>\n",
       "      <th>right canine index casts</th>\n",
       "      <th>left canine index intraoral</th>\n",
       "      <th>left canine index casts</th>\n",
       "    </tr>\n",
       "  </thead>\n",
       "  <tbody>\n",
       "    <tr>\n",
       "      <th>0</th>\n",
       "      <td>1</td>\n",
       "      <td>NaN</td>\n",
       "      <td>24</td>\n",
       "      <td>Female</td>\n",
       "      <td>25.06</td>\n",
       "      <td>25.05</td>\n",
       "      <td>6.08</td>\n",
       "      <td>6.08</td>\n",
       "      <td>6.09</td>\n",
       "      <td>6.10</td>\n",
       "      <td>0.242</td>\n",
       "      <td>0.242</td>\n",
       "      <td>0.242</td>\n",
       "      <td>0.241</td>\n",
       "    </tr>\n",
       "    <tr>\n",
       "      <th>1</th>\n",
       "      <td>2</td>\n",
       "      <td>NaN</td>\n",
       "      <td>22</td>\n",
       "      <td>Female</td>\n",
       "      <td>25.78</td>\n",
       "      <td>25.79</td>\n",
       "      <td>6.13</td>\n",
       "      <td>6.13</td>\n",
       "      <td>6.33</td>\n",
       "      <td>6.33</td>\n",
       "      <td>0.237</td>\n",
       "      <td>0.237</td>\n",
       "      <td>0.247</td>\n",
       "      <td>0.247</td>\n",
       "    </tr>\n",
       "    <tr>\n",
       "      <th>2</th>\n",
       "      <td>3</td>\n",
       "      <td>NaN</td>\n",
       "      <td>23</td>\n",
       "      <td>Female</td>\n",
       "      <td>23.83</td>\n",
       "      <td>23.83</td>\n",
       "      <td>5.91</td>\n",
       "      <td>5.96</td>\n",
       "      <td>6.28</td>\n",
       "      <td>6.28</td>\n",
       "      <td>0.248</td>\n",
       "      <td>0.248</td>\n",
       "      <td>0.264</td>\n",
       "      <td>0.264</td>\n",
       "    </tr>\n",
       "    <tr>\n",
       "      <th>3</th>\n",
       "      <td>4</td>\n",
       "      <td>NaN</td>\n",
       "      <td>20</td>\n",
       "      <td>Female</td>\n",
       "      <td>26.12</td>\n",
       "      <td>26.12</td>\n",
       "      <td>6.08</td>\n",
       "      <td>6.08</td>\n",
       "      <td>6.56</td>\n",
       "      <td>6.56</td>\n",
       "      <td>0.232</td>\n",
       "      <td>0.232</td>\n",
       "      <td>0.250</td>\n",
       "      <td>0.250</td>\n",
       "    </tr>\n",
       "    <tr>\n",
       "      <th>4</th>\n",
       "      <td>5</td>\n",
       "      <td>NaN</td>\n",
       "      <td>20</td>\n",
       "      <td>Female</td>\n",
       "      <td>26.36</td>\n",
       "      <td>26.41</td>\n",
       "      <td>6.09</td>\n",
       "      <td>6.09</td>\n",
       "      <td>6.50</td>\n",
       "      <td>6.50</td>\n",
       "      <td>0.231</td>\n",
       "      <td>0.231</td>\n",
       "      <td>0.246</td>\n",
       "      <td>0.246</td>\n",
       "    </tr>\n",
       "  </tbody>\n",
       "</table>\n",
       "</div>"
      ],
      "text/plain": [
       "   Sl No  Sample ID  Age  Gender  inter canine distance intraoral  \\\n",
       "0      1        NaN   24  Female                            25.06   \n",
       "1      2        NaN   22  Female                            25.78   \n",
       "2      3        NaN   23  Female                            23.83   \n",
       "3      4        NaN   20  Female                            26.12   \n",
       "4      5        NaN   20  Female                            26.36   \n",
       "\n",
       "   intercanine distance casts  right canine width intraoral  \\\n",
       "0                       25.05                          6.08   \n",
       "1                       25.79                          6.13   \n",
       "2                       23.83                          5.91   \n",
       "3                       26.12                          6.08   \n",
       "4                       26.41                          6.09   \n",
       "\n",
       "   right canine width casts  left canine width intraoral  \\\n",
       "0                      6.08                         6.09   \n",
       "1                      6.13                         6.33   \n",
       "2                      5.96                         6.28   \n",
       "3                      6.08                         6.56   \n",
       "4                      6.09                         6.50   \n",
       "\n",
       "   left canine width casts  right canine index intra oral  \\\n",
       "0                     6.10                          0.242   \n",
       "1                     6.33                          0.237   \n",
       "2                     6.28                          0.248   \n",
       "3                     6.56                          0.232   \n",
       "4                     6.50                          0.231   \n",
       "\n",
       "   right canine index casts  left canine index intraoral  \\\n",
       "0                     0.242                        0.242   \n",
       "1                     0.237                        0.247   \n",
       "2                     0.248                        0.264   \n",
       "3                     0.232                        0.250   \n",
       "4                     0.231                        0.246   \n",
       "\n",
       "   left canine index casts  \n",
       "0                    0.241  \n",
       "1                    0.247  \n",
       "2                    0.264  \n",
       "3                    0.250  \n",
       "4                    0.246  "
      ]
     },
     "execution_count": 3,
     "metadata": {},
     "output_type": "execute_result"
    }
   ],
   "source": [
    "df.head()"
   ]
  },
  {
   "cell_type": "code",
   "execution_count": 4,
   "id": "dbc99303",
   "metadata": {},
   "outputs": [
    {
     "name": "stdout",
     "output_type": "stream",
     "text": [
      "<class 'pandas.core.frame.DataFrame'>\n",
      "RangeIndex: 1100 entries, 0 to 1099\n",
      "Data columns (total 14 columns):\n",
      " #   Column                           Non-Null Count  Dtype  \n",
      "---  ------                           --------------  -----  \n",
      " 0   Sl No                            1100 non-null   int64  \n",
      " 1   Sample ID                        0 non-null      float64\n",
      " 2   Age                              1100 non-null   int64  \n",
      " 3   Gender                           1100 non-null   object \n",
      " 4   inter canine distance intraoral  1100 non-null   float64\n",
      " 5   intercanine distance casts       1100 non-null   float64\n",
      " 6   right canine width intraoral     1100 non-null   float64\n",
      " 7   right canine width casts         1100 non-null   float64\n",
      " 8   left canine width intraoral      1100 non-null   float64\n",
      " 9   left canine width casts          1100 non-null   float64\n",
      " 10  right canine index intra oral    1100 non-null   float64\n",
      " 11  right canine index casts         1100 non-null   float64\n",
      " 12  left canine index intraoral      1100 non-null   float64\n",
      " 13  left canine index casts          1100 non-null   float64\n",
      "dtypes: float64(11), int64(2), object(1)\n",
      "memory usage: 120.4+ KB\n"
     ]
    }
   ],
   "source": [
    "df.info()"
   ]
  },
  {
   "cell_type": "code",
   "execution_count": 5,
   "id": "ca6eef4d",
   "metadata": {},
   "outputs": [],
   "source": [
    "df = df.drop(['Sample ID','Sl No'],axis =1)"
   ]
  },
  {
   "cell_type": "code",
   "execution_count": 6,
   "id": "38269282",
   "metadata": {},
   "outputs": [
    {
     "name": "stdout",
     "output_type": "stream",
     "text": [
      "<class 'pandas.core.frame.DataFrame'>\n",
      "RangeIndex: 1100 entries, 0 to 1099\n",
      "Data columns (total 12 columns):\n",
      " #   Column                           Non-Null Count  Dtype  \n",
      "---  ------                           --------------  -----  \n",
      " 0   Age                              1100 non-null   int64  \n",
      " 1   Gender                           1100 non-null   object \n",
      " 2   inter canine distance intraoral  1100 non-null   float64\n",
      " 3   intercanine distance casts       1100 non-null   float64\n",
      " 4   right canine width intraoral     1100 non-null   float64\n",
      " 5   right canine width casts         1100 non-null   float64\n",
      " 6   left canine width intraoral      1100 non-null   float64\n",
      " 7   left canine width casts          1100 non-null   float64\n",
      " 8   right canine index intra oral    1100 non-null   float64\n",
      " 9   right canine index casts         1100 non-null   float64\n",
      " 10  left canine index intraoral      1100 non-null   float64\n",
      " 11  left canine index casts          1100 non-null   float64\n",
      "dtypes: float64(10), int64(1), object(1)\n",
      "memory usage: 103.2+ KB\n"
     ]
    }
   ],
   "source": [
    "df.info()"
   ]
  },
  {
   "cell_type": "code",
   "execution_count": 7,
   "id": "183bdb7e",
   "metadata": {},
   "outputs": [],
   "source": [
    "df = df.drop_duplicates()"
   ]
  },
  {
   "cell_type": "code",
   "execution_count": 8,
   "id": "7bb4840d",
   "metadata": {},
   "outputs": [
    {
     "data": {
      "text/plain": [
       "(1077, 12)"
      ]
     },
     "execution_count": 8,
     "metadata": {},
     "output_type": "execute_result"
    }
   ],
   "source": [
    "df.shape"
   ]
  },
  {
   "cell_type": "code",
   "execution_count": 9,
   "id": "8b42bae6",
   "metadata": {},
   "outputs": [],
   "source": [
    "Label_Encoder = LabelEncoder()"
   ]
  },
  {
   "cell_type": "code",
   "execution_count": 10,
   "id": "922b3342",
   "metadata": {},
   "outputs": [],
   "source": [
    "df['Gender']= Label_Encoder.fit_transform(df['Gender'])"
   ]
  },
  {
   "cell_type": "code",
   "execution_count": 11,
   "id": "e3a1a368",
   "metadata": {},
   "outputs": [
    {
     "data": {
      "text/html": [
       "<div>\n",
       "<style scoped>\n",
       "    .dataframe tbody tr th:only-of-type {\n",
       "        vertical-align: middle;\n",
       "    }\n",
       "\n",
       "    .dataframe tbody tr th {\n",
       "        vertical-align: top;\n",
       "    }\n",
       "\n",
       "    .dataframe thead th {\n",
       "        text-align: right;\n",
       "    }\n",
       "</style>\n",
       "<table border=\"1\" class=\"dataframe\">\n",
       "  <thead>\n",
       "    <tr style=\"text-align: right;\">\n",
       "      <th></th>\n",
       "      <th>Age</th>\n",
       "      <th>Gender</th>\n",
       "      <th>inter canine distance intraoral</th>\n",
       "      <th>intercanine distance casts</th>\n",
       "      <th>right canine width intraoral</th>\n",
       "      <th>right canine width casts</th>\n",
       "      <th>left canine width intraoral</th>\n",
       "      <th>left canine width casts</th>\n",
       "      <th>right canine index intra oral</th>\n",
       "      <th>right canine index casts</th>\n",
       "      <th>left canine index intraoral</th>\n",
       "      <th>left canine index casts</th>\n",
       "    </tr>\n",
       "  </thead>\n",
       "  <tbody>\n",
       "    <tr>\n",
       "      <th>0</th>\n",
       "      <td>24</td>\n",
       "      <td>0</td>\n",
       "      <td>25.06</td>\n",
       "      <td>25.05</td>\n",
       "      <td>6.08</td>\n",
       "      <td>6.08</td>\n",
       "      <td>6.09</td>\n",
       "      <td>6.10</td>\n",
       "      <td>0.242</td>\n",
       "      <td>0.242</td>\n",
       "      <td>0.242</td>\n",
       "      <td>0.241</td>\n",
       "    </tr>\n",
       "    <tr>\n",
       "      <th>1</th>\n",
       "      <td>22</td>\n",
       "      <td>0</td>\n",
       "      <td>25.78</td>\n",
       "      <td>25.79</td>\n",
       "      <td>6.13</td>\n",
       "      <td>6.13</td>\n",
       "      <td>6.33</td>\n",
       "      <td>6.33</td>\n",
       "      <td>0.237</td>\n",
       "      <td>0.237</td>\n",
       "      <td>0.247</td>\n",
       "      <td>0.247</td>\n",
       "    </tr>\n",
       "    <tr>\n",
       "      <th>2</th>\n",
       "      <td>23</td>\n",
       "      <td>0</td>\n",
       "      <td>23.83</td>\n",
       "      <td>23.83</td>\n",
       "      <td>5.91</td>\n",
       "      <td>5.96</td>\n",
       "      <td>6.28</td>\n",
       "      <td>6.28</td>\n",
       "      <td>0.248</td>\n",
       "      <td>0.248</td>\n",
       "      <td>0.264</td>\n",
       "      <td>0.264</td>\n",
       "    </tr>\n",
       "    <tr>\n",
       "      <th>3</th>\n",
       "      <td>20</td>\n",
       "      <td>0</td>\n",
       "      <td>26.12</td>\n",
       "      <td>26.12</td>\n",
       "      <td>6.08</td>\n",
       "      <td>6.08</td>\n",
       "      <td>6.56</td>\n",
       "      <td>6.56</td>\n",
       "      <td>0.232</td>\n",
       "      <td>0.232</td>\n",
       "      <td>0.250</td>\n",
       "      <td>0.250</td>\n",
       "    </tr>\n",
       "    <tr>\n",
       "      <th>4</th>\n",
       "      <td>20</td>\n",
       "      <td>0</td>\n",
       "      <td>26.36</td>\n",
       "      <td>26.41</td>\n",
       "      <td>6.09</td>\n",
       "      <td>6.09</td>\n",
       "      <td>6.50</td>\n",
       "      <td>6.50</td>\n",
       "      <td>0.231</td>\n",
       "      <td>0.231</td>\n",
       "      <td>0.246</td>\n",
       "      <td>0.246</td>\n",
       "    </tr>\n",
       "  </tbody>\n",
       "</table>\n",
       "</div>"
      ],
      "text/plain": [
       "   Age  Gender  inter canine distance intraoral  intercanine distance casts  \\\n",
       "0   24       0                            25.06                       25.05   \n",
       "1   22       0                            25.78                       25.79   \n",
       "2   23       0                            23.83                       23.83   \n",
       "3   20       0                            26.12                       26.12   \n",
       "4   20       0                            26.36                       26.41   \n",
       "\n",
       "   right canine width intraoral  right canine width casts  \\\n",
       "0                          6.08                      6.08   \n",
       "1                          6.13                      6.13   \n",
       "2                          5.91                      5.96   \n",
       "3                          6.08                      6.08   \n",
       "4                          6.09                      6.09   \n",
       "\n",
       "   left canine width intraoral  left canine width casts  \\\n",
       "0                         6.09                     6.10   \n",
       "1                         6.33                     6.33   \n",
       "2                         6.28                     6.28   \n",
       "3                         6.56                     6.56   \n",
       "4                         6.50                     6.50   \n",
       "\n",
       "   right canine index intra oral  right canine index casts  \\\n",
       "0                          0.242                     0.242   \n",
       "1                          0.237                     0.237   \n",
       "2                          0.248                     0.248   \n",
       "3                          0.232                     0.232   \n",
       "4                          0.231                     0.231   \n",
       "\n",
       "   left canine index intraoral  left canine index casts  \n",
       "0                        0.242                    0.241  \n",
       "1                        0.247                    0.247  \n",
       "2                        0.264                    0.264  \n",
       "3                        0.250                    0.250  \n",
       "4                        0.246                    0.246  "
      ]
     },
     "execution_count": 11,
     "metadata": {},
     "output_type": "execute_result"
    }
   ],
   "source": [
    "df.head()"
   ]
  },
  {
   "cell_type": "code",
   "execution_count": 12,
   "id": "4a67bb8a",
   "metadata": {},
   "outputs": [
    {
     "data": {
      "text/plain": [
       "array([0, 1])"
      ]
     },
     "execution_count": 12,
     "metadata": {},
     "output_type": "execute_result"
    }
   ],
   "source": [
    "df['Gender'].unique()"
   ]
  },
  {
   "cell_type": "code",
   "execution_count": 13,
   "id": "352fcb91",
   "metadata": {},
   "outputs": [
    {
     "data": {
      "text/html": [
       "<div>\n",
       "<style scoped>\n",
       "    .dataframe tbody tr th:only-of-type {\n",
       "        vertical-align: middle;\n",
       "    }\n",
       "\n",
       "    .dataframe tbody tr th {\n",
       "        vertical-align: top;\n",
       "    }\n",
       "\n",
       "    .dataframe thead th {\n",
       "        text-align: right;\n",
       "    }\n",
       "</style>\n",
       "<table border=\"1\" class=\"dataframe\">\n",
       "  <thead>\n",
       "    <tr style=\"text-align: right;\">\n",
       "      <th></th>\n",
       "      <th>Age</th>\n",
       "      <th>Gender</th>\n",
       "      <th>inter canine distance intraoral</th>\n",
       "      <th>intercanine distance casts</th>\n",
       "      <th>right canine width intraoral</th>\n",
       "      <th>right canine width casts</th>\n",
       "      <th>left canine width intraoral</th>\n",
       "      <th>left canine width casts</th>\n",
       "      <th>right canine index intra oral</th>\n",
       "      <th>right canine index casts</th>\n",
       "      <th>left canine index intraoral</th>\n",
       "      <th>left canine index casts</th>\n",
       "    </tr>\n",
       "  </thead>\n",
       "  <tbody>\n",
       "  </tbody>\n",
       "</table>\n",
       "</div>"
      ],
      "text/plain": [
       "Empty DataFrame\n",
       "Columns: [Age, Gender, inter canine distance intraoral, intercanine distance casts, right canine width intraoral, right canine width casts, left canine width intraoral, left canine width casts, right canine index intra oral, right canine index casts, left canine index intraoral, left canine index casts]\n",
       "Index: []"
      ]
     },
     "execution_count": 13,
     "metadata": {},
     "output_type": "execute_result"
    }
   ],
   "source": [
    "df.loc[df['Gender'] == 'Male']"
   ]
  },
  {
   "cell_type": "code",
   "execution_count": 14,
   "id": "46d86d63",
   "metadata": {},
   "outputs": [
    {
     "name": "stdout",
     "output_type": "stream",
     "text": [
      "<class 'pandas.core.frame.DataFrame'>\n",
      "Int64Index: 1077 entries, 0 to 1099\n",
      "Data columns (total 12 columns):\n",
      " #   Column                           Non-Null Count  Dtype  \n",
      "---  ------                           --------------  -----  \n",
      " 0   Age                              1077 non-null   int64  \n",
      " 1   Gender                           1077 non-null   int32  \n",
      " 2   inter canine distance intraoral  1077 non-null   float64\n",
      " 3   intercanine distance casts       1077 non-null   float64\n",
      " 4   right canine width intraoral     1077 non-null   float64\n",
      " 5   right canine width casts         1077 non-null   float64\n",
      " 6   left canine width intraoral      1077 non-null   float64\n",
      " 7   left canine width casts          1077 non-null   float64\n",
      " 8   right canine index intra oral    1077 non-null   float64\n",
      " 9   right canine index casts         1077 non-null   float64\n",
      " 10  left canine index intraoral      1077 non-null   float64\n",
      " 11  left canine index casts          1077 non-null   float64\n",
      "dtypes: float64(10), int32(1), int64(1)\n",
      "memory usage: 105.2 KB\n"
     ]
    }
   ],
   "source": [
    "df.info()"
   ]
  },
  {
   "cell_type": "code",
   "execution_count": 15,
   "id": "ec3fc62b",
   "metadata": {},
   "outputs": [
    {
     "data": {
      "text/plain": [
       "(1077, 12)"
      ]
     },
     "execution_count": 15,
     "metadata": {},
     "output_type": "execute_result"
    }
   ],
   "source": [
    "df.shape"
   ]
  },
  {
   "cell_type": "code",
   "execution_count": 16,
   "id": "98396942",
   "metadata": {},
   "outputs": [
    {
     "data": {
      "text/html": [
       "<div>\n",
       "<style scoped>\n",
       "    .dataframe tbody tr th:only-of-type {\n",
       "        vertical-align: middle;\n",
       "    }\n",
       "\n",
       "    .dataframe tbody tr th {\n",
       "        vertical-align: top;\n",
       "    }\n",
       "\n",
       "    .dataframe thead th {\n",
       "        text-align: right;\n",
       "    }\n",
       "</style>\n",
       "<table border=\"1\" class=\"dataframe\">\n",
       "  <thead>\n",
       "    <tr style=\"text-align: right;\">\n",
       "      <th></th>\n",
       "      <th>Age</th>\n",
       "      <th>Gender</th>\n",
       "      <th>inter canine distance intraoral</th>\n",
       "      <th>intercanine distance casts</th>\n",
       "      <th>right canine width intraoral</th>\n",
       "      <th>right canine width casts</th>\n",
       "      <th>left canine width intraoral</th>\n",
       "      <th>left canine width casts</th>\n",
       "      <th>right canine index intra oral</th>\n",
       "      <th>right canine index casts</th>\n",
       "      <th>left canine index intraoral</th>\n",
       "      <th>left canine index casts</th>\n",
       "    </tr>\n",
       "  </thead>\n",
       "  <tbody>\n",
       "    <tr>\n",
       "      <th>count</th>\n",
       "      <td>1077.00000</td>\n",
       "      <td>1077.000000</td>\n",
       "      <td>1077.000000</td>\n",
       "      <td>1077.000000</td>\n",
       "      <td>1077.000000</td>\n",
       "      <td>1077.000000</td>\n",
       "      <td>1077.000000</td>\n",
       "      <td>1077.000000</td>\n",
       "      <td>1077.000000</td>\n",
       "      <td>1077.000000</td>\n",
       "      <td>1077.000000</td>\n",
       "      <td>1077.000000</td>\n",
       "    </tr>\n",
       "    <tr>\n",
       "      <th>mean</th>\n",
       "      <td>21.62117</td>\n",
       "      <td>0.501393</td>\n",
       "      <td>25.981188</td>\n",
       "      <td>25.869842</td>\n",
       "      <td>6.560149</td>\n",
       "      <td>6.561671</td>\n",
       "      <td>6.667604</td>\n",
       "      <td>6.673120</td>\n",
       "      <td>0.253104</td>\n",
       "      <td>0.252319</td>\n",
       "      <td>0.256456</td>\n",
       "      <td>0.256362</td>\n",
       "    </tr>\n",
       "    <tr>\n",
       "      <th>std</th>\n",
       "      <td>2.07289</td>\n",
       "      <td>0.500230</td>\n",
       "      <td>1.309747</td>\n",
       "      <td>1.867892</td>\n",
       "      <td>0.378103</td>\n",
       "      <td>0.376608</td>\n",
       "      <td>0.375512</td>\n",
       "      <td>0.376803</td>\n",
       "      <td>0.015395</td>\n",
       "      <td>0.012894</td>\n",
       "      <td>0.012358</td>\n",
       "      <td>0.012374</td>\n",
       "    </tr>\n",
       "    <tr>\n",
       "      <th>min</th>\n",
       "      <td>18.00000</td>\n",
       "      <td>0.000000</td>\n",
       "      <td>23.120000</td>\n",
       "      <td>6.540000</td>\n",
       "      <td>5.460000</td>\n",
       "      <td>5.460000</td>\n",
       "      <td>5.460000</td>\n",
       "      <td>5.460000</td>\n",
       "      <td>0.223000</td>\n",
       "      <td>0.223000</td>\n",
       "      <td>0.223000</td>\n",
       "      <td>0.223000</td>\n",
       "    </tr>\n",
       "    <tr>\n",
       "      <th>25%</th>\n",
       "      <td>20.00000</td>\n",
       "      <td>0.000000</td>\n",
       "      <td>24.990000</td>\n",
       "      <td>24.970000</td>\n",
       "      <td>6.290000</td>\n",
       "      <td>6.300000</td>\n",
       "      <td>6.400000</td>\n",
       "      <td>6.400000</td>\n",
       "      <td>0.242000</td>\n",
       "      <td>0.242000</td>\n",
       "      <td>0.247000</td>\n",
       "      <td>0.247000</td>\n",
       "    </tr>\n",
       "    <tr>\n",
       "      <th>50%</th>\n",
       "      <td>22.00000</td>\n",
       "      <td>1.000000</td>\n",
       "      <td>25.890000</td>\n",
       "      <td>25.890000</td>\n",
       "      <td>6.520000</td>\n",
       "      <td>6.520000</td>\n",
       "      <td>6.660000</td>\n",
       "      <td>6.670000</td>\n",
       "      <td>0.253000</td>\n",
       "      <td>0.253000</td>\n",
       "      <td>0.255000</td>\n",
       "      <td>0.255000</td>\n",
       "    </tr>\n",
       "    <tr>\n",
       "      <th>75%</th>\n",
       "      <td>23.00000</td>\n",
       "      <td>1.000000</td>\n",
       "      <td>26.980000</td>\n",
       "      <td>26.980000</td>\n",
       "      <td>6.800000</td>\n",
       "      <td>6.800000</td>\n",
       "      <td>6.900000</td>\n",
       "      <td>6.920000</td>\n",
       "      <td>0.262000</td>\n",
       "      <td>0.261000</td>\n",
       "      <td>0.264000</td>\n",
       "      <td>0.264000</td>\n",
       "    </tr>\n",
       "    <tr>\n",
       "      <th>max</th>\n",
       "      <td>25.00000</td>\n",
       "      <td>1.000000</td>\n",
       "      <td>30.310000</td>\n",
       "      <td>30.310000</td>\n",
       "      <td>7.610000</td>\n",
       "      <td>7.600000</td>\n",
       "      <td>7.810000</td>\n",
       "      <td>7.810000</td>\n",
       "      <td>0.363000</td>\n",
       "      <td>0.302000</td>\n",
       "      <td>0.305000</td>\n",
       "      <td>0.304000</td>\n",
       "    </tr>\n",
       "  </tbody>\n",
       "</table>\n",
       "</div>"
      ],
      "text/plain": [
       "              Age       Gender  inter canine distance intraoral  \\\n",
       "count  1077.00000  1077.000000                      1077.000000   \n",
       "mean     21.62117     0.501393                        25.981188   \n",
       "std       2.07289     0.500230                         1.309747   \n",
       "min      18.00000     0.000000                        23.120000   \n",
       "25%      20.00000     0.000000                        24.990000   \n",
       "50%      22.00000     1.000000                        25.890000   \n",
       "75%      23.00000     1.000000                        26.980000   \n",
       "max      25.00000     1.000000                        30.310000   \n",
       "\n",
       "       intercanine distance casts  right canine width intraoral  \\\n",
       "count                 1077.000000                   1077.000000   \n",
       "mean                    25.869842                      6.560149   \n",
       "std                      1.867892                      0.378103   \n",
       "min                      6.540000                      5.460000   \n",
       "25%                     24.970000                      6.290000   \n",
       "50%                     25.890000                      6.520000   \n",
       "75%                     26.980000                      6.800000   \n",
       "max                     30.310000                      7.610000   \n",
       "\n",
       "       right canine width casts  left canine width intraoral  \\\n",
       "count               1077.000000                  1077.000000   \n",
       "mean                   6.561671                     6.667604   \n",
       "std                    0.376608                     0.375512   \n",
       "min                    5.460000                     5.460000   \n",
       "25%                    6.300000                     6.400000   \n",
       "50%                    6.520000                     6.660000   \n",
       "75%                    6.800000                     6.900000   \n",
       "max                    7.600000                     7.810000   \n",
       "\n",
       "       left canine width casts  right canine index intra oral  \\\n",
       "count              1077.000000                    1077.000000   \n",
       "mean                  6.673120                       0.253104   \n",
       "std                   0.376803                       0.015395   \n",
       "min                   5.460000                       0.223000   \n",
       "25%                   6.400000                       0.242000   \n",
       "50%                   6.670000                       0.253000   \n",
       "75%                   6.920000                       0.262000   \n",
       "max                   7.810000                       0.363000   \n",
       "\n",
       "       right canine index casts  left canine index intraoral  \\\n",
       "count               1077.000000                  1077.000000   \n",
       "mean                   0.252319                     0.256456   \n",
       "std                    0.012894                     0.012358   \n",
       "min                    0.223000                     0.223000   \n",
       "25%                    0.242000                     0.247000   \n",
       "50%                    0.253000                     0.255000   \n",
       "75%                    0.261000                     0.264000   \n",
       "max                    0.302000                     0.305000   \n",
       "\n",
       "       left canine index casts  \n",
       "count              1077.000000  \n",
       "mean                  0.256362  \n",
       "std                   0.012374  \n",
       "min                   0.223000  \n",
       "25%                   0.247000  \n",
       "50%                   0.255000  \n",
       "75%                   0.264000  \n",
       "max                   0.304000  "
      ]
     },
     "execution_count": 16,
     "metadata": {},
     "output_type": "execute_result"
    }
   ],
   "source": [
    "df.describe()"
   ]
  },
  {
   "cell_type": "code",
   "execution_count": 17,
   "id": "22009448",
   "metadata": {},
   "outputs": [],
   "source": [
    "df_pi = df.copy()\n",
    "df_pi[\" \"] = np.where(df_pi['Gender'] == 1 ,  \"Male\", \"Female\")"
   ]
  },
  {
   "cell_type": "code",
   "execution_count": 18,
   "id": "2688b10c",
   "metadata": {},
   "outputs": [
    {
     "data": {
      "text/plain": [
       "<AxesSubplot:ylabel=' '>"
      ]
     },
     "execution_count": 18,
     "metadata": {},
     "output_type": "execute_result"
    },
    {
     "data": {
      "image/png": "[encoded data removed]",
      "text/plain": [
       "<Figure size 432x288 with 1 Axes>"
      ]
     },
     "metadata": {},
     "output_type": "display_data"
    }
   ],
   "source": [
    "df_pi[\" \"].value_counts().plot(kind=\"pie\")"
   ]
  },
  {
   "cell_type": "code",
   "execution_count": 19,
   "id": "fab56ec3",
   "metadata": {},
   "outputs": [
    {
     "name": "stdout",
     "output_type": "stream",
     "text": [
      "Male: 540\n",
      "Female: 537\n"
     ]
    }
   ],
   "source": [
    "print(\"Male: \" + str(len(df[df['Gender'] == 1])))\n",
    "print(\"Female: \" + str(len(df[df['Gender'] == 0])))"
   ]
  },
  {
   "cell_type": "code",
   "execution_count": 20,
   "id": "78d9dc93",
   "metadata": {},
   "outputs": [],
   "source": [
    "df_1 = df.copy()"
   ]
  },
  {
   "cell_type": "code",
   "execution_count": 21,
   "id": "4db732cb",
   "metadata": {},
   "outputs": [],
   "source": [
    "x = df_1.drop(\"Gender\",axis = 1)\n",
    "y= df_1[\"Gender\"]\n",
    "bestfeatures = SelectKBest(score_func = chi2,k=7)\n",
    "fit =bestfeatures.fit(x,y)"
   ]
  },
  {
   "cell_type": "code",
   "execution_count": 22,
   "id": "1d520206",
   "metadata": {},
   "outputs": [
    {
     "data": {
      "text/html": [
       "<div>\n",
       "<style scoped>\n",
       "    .dataframe tbody tr th:only-of-type {\n",
       "        vertical-align: middle;\n",
       "    }\n",
       "\n",
       "    .dataframe tbody tr th {\n",
       "        vertical-align: top;\n",
       "    }\n",
       "\n",
       "    .dataframe thead th {\n",
       "        text-align: right;\n",
       "    }\n",
       "</style>\n",
       "<table border=\"1\" class=\"dataframe\">\n",
       "  <thead>\n",
       "    <tr style=\"text-align: right;\">\n",
       "      <th></th>\n",
       "      <th>fetaures</th>\n",
       "      <th>scores</th>\n",
       "    </tr>\n",
       "  </thead>\n",
       "  <tbody>\n",
       "    <tr>\n",
       "      <th>6</th>\n",
       "      <td>left canine width casts</td>\n",
       "      <td>9.288489</td>\n",
       "    </tr>\n",
       "    <tr>\n",
       "      <th>5</th>\n",
       "      <td>left canine width intraoral</td>\n",
       "      <td>8.943845</td>\n",
       "    </tr>\n",
       "    <tr>\n",
       "      <th>1</th>\n",
       "      <td>inter canine distance intraoral</td>\n",
       "      <td>8.051697</td>\n",
       "    </tr>\n",
       "    <tr>\n",
       "      <th>3</th>\n",
       "      <td>right canine width intraoral</td>\n",
       "      <td>7.284305</td>\n",
       "    </tr>\n",
       "    <tr>\n",
       "      <th>4</th>\n",
       "      <td>right canine width casts</td>\n",
       "      <td>7.228491</td>\n",
       "    </tr>\n",
       "    <tr>\n",
       "      <th>2</th>\n",
       "      <td>intercanine distance casts</td>\n",
       "      <td>4.463575</td>\n",
       "    </tr>\n",
       "    <tr>\n",
       "      <th>0</th>\n",
       "      <td>Age</td>\n",
       "      <td>3.298344</td>\n",
       "    </tr>\n",
       "    <tr>\n",
       "      <th>10</th>\n",
       "      <td>left canine index casts</td>\n",
       "      <td>0.096843</td>\n",
       "    </tr>\n",
       "    <tr>\n",
       "      <th>9</th>\n",
       "      <td>left canine index intraoral</td>\n",
       "      <td>0.095045</td>\n",
       "    </tr>\n",
       "    <tr>\n",
       "      <th>8</th>\n",
       "      <td>right canine index casts</td>\n",
       "      <td>0.063348</td>\n",
       "    </tr>\n",
       "    <tr>\n",
       "      <th>7</th>\n",
       "      <td>right canine index intra oral</td>\n",
       "      <td>0.042300</td>\n",
       "    </tr>\n",
       "  </tbody>\n",
       "</table>\n",
       "</div>"
      ],
      "text/plain": [
       "                           fetaures    scores\n",
       "6           left canine width casts  9.288489\n",
       "5       left canine width intraoral  8.943845\n",
       "1   inter canine distance intraoral  8.051697\n",
       "3      right canine width intraoral  7.284305\n",
       "4          right canine width casts  7.228491\n",
       "2        intercanine distance casts  4.463575\n",
       "0                               Age  3.298344\n",
       "10          left canine index casts  0.096843\n",
       "9       left canine index intraoral  0.095045\n",
       "8          right canine index casts  0.063348\n",
       "7     right canine index intra oral  0.042300"
      ]
     },
     "execution_count": 22,
     "metadata": {},
     "output_type": "execute_result"
    }
   ],
   "source": [
    "feature_scores = pd.concat([pd.DataFrame(x.columns),pd.DataFrame(fit.scores_)],axis = 1)\n",
    "feature_scores.columns = [\"fetaures\",\"scores\"]\n",
    "feature_scores.sort_values(by = 'scores',ascending = False)"
   ]
  },
  {
   "cell_type": "code",
   "execution_count": 23,
   "id": "74bf0369",
   "metadata": {},
   "outputs": [
    {
     "data": {
      "text/html": [
       "<div>\n",
       "<style scoped>\n",
       "    .dataframe tbody tr th:only-of-type {\n",
       "        vertical-align: middle;\n",
       "    }\n",
       "\n",
       "    .dataframe tbody tr th {\n",
       "        vertical-align: top;\n",
       "    }\n",
       "\n",
       "    .dataframe thead th {\n",
       "        text-align: right;\n",
       "    }\n",
       "</style>\n",
       "<table border=\"1\" class=\"dataframe\">\n",
       "  <thead>\n",
       "    <tr style=\"text-align: right;\">\n",
       "      <th></th>\n",
       "      <th>fetaures</th>\n",
       "      <th>scores</th>\n",
       "    </tr>\n",
       "  </thead>\n",
       "  <tbody>\n",
       "    <tr>\n",
       "      <th>6</th>\n",
       "      <td>left canine width casts</td>\n",
       "      <td>9.288489</td>\n",
       "    </tr>\n",
       "    <tr>\n",
       "      <th>5</th>\n",
       "      <td>left canine width intraoral</td>\n",
       "      <td>8.943845</td>\n",
       "    </tr>\n",
       "    <tr>\n",
       "      <th>1</th>\n",
       "      <td>inter canine distance intraoral</td>\n",
       "      <td>8.051697</td>\n",
       "    </tr>\n",
       "    <tr>\n",
       "      <th>3</th>\n",
       "      <td>right canine width intraoral</td>\n",
       "      <td>7.284305</td>\n",
       "    </tr>\n",
       "    <tr>\n",
       "      <th>4</th>\n",
       "      <td>right canine width casts</td>\n",
       "      <td>7.228491</td>\n",
       "    </tr>\n",
       "  </tbody>\n",
       "</table>\n",
       "</div>"
      ],
      "text/plain": [
       "                          fetaures    scores\n",
       "6          left canine width casts  9.288489\n",
       "5      left canine width intraoral  8.943845\n",
       "1  inter canine distance intraoral  8.051697\n",
       "3     right canine width intraoral  7.284305\n",
       "4         right canine width casts  7.228491"
      ]
     },
     "execution_count": 23,
     "metadata": {},
     "output_type": "execute_result"
    }
   ],
   "source": [
    "feature_scores.nlargest(5,'scores')"
   ]
  },
  {
   "cell_type": "code",
   "execution_count": 24,
   "id": "369710b2",
   "metadata": {},
   "outputs": [
    {
     "data": {
      "image/png": "[encoded data removed]",
      "text/plain": [
       "<Figure size 864x720 with 2 Axes>"
      ]
     },
     "metadata": {
      "needs_background": "light"
     },
     "output_type": "display_data"
    }
   ],
   "source": [
    "plt.figure(figsize = (12,10))\n",
    "sns.heatmap(df_1.corr(), annot = True, cmap = plt.cm.CMRmap_r)\n",
    "plt.show()"
   ]
  },
  {
   "cell_type": "code",
   "execution_count": 25,
   "id": "e677876b",
   "metadata": {},
   "outputs": [
    {
     "name": "stderr",
     "output_type": "stream",
     "text": [
      "C:\\Users\\akhilesh rai\\anaconda3\\lib\\site-packages\\seaborn\\distributions.py:2619: FutureWarning: `distplot` is a deprecated function and will be removed in a future version. Please adapt your code to use either `displot` (a figure-level function with similar flexibility) or `histplot` (an axes-level function for histograms).\n",
      "  warnings.warn(msg, FutureWarning)\n",
      "C:\\Users\\akhilesh rai\\anaconda3\\lib\\site-packages\\seaborn\\distributions.py:2619: FutureWarning: `distplot` is a deprecated function and will be removed in a future version. Please adapt your code to use either `displot` (a figure-level function with similar flexibility) or `histplot` (an axes-level function for histograms).\n",
      "  warnings.warn(msg, FutureWarning)\n",
      "C:\\Users\\akhilesh rai\\anaconda3\\lib\\site-packages\\seaborn\\distributions.py:2619: FutureWarning: `distplot` is a deprecated function and will be removed in a future version. Please adapt your code to use either `displot` (a figure-level function with similar flexibility) or `histplot` (an axes-level function for histograms).\n",
      "  warnings.warn(msg, FutureWarning)\n",
      "C:\\Users\\akhilesh rai\\anaconda3\\lib\\site-packages\\seaborn\\distributions.py:2619: FutureWarning: `distplot` is a deprecated function and will be removed in a future version. Please adapt your code to use either `displot` (a figure-level function with similar flexibility) or `histplot` (an axes-level function for histograms).\n",
      "  warnings.warn(msg, FutureWarning)\n",
      "C:\\Users\\akhilesh rai\\anaconda3\\lib\\site-packages\\seaborn\\distributions.py:2619: FutureWarning: `distplot` is a deprecated function and will be removed in a future version. Please adapt your code to use either `displot` (a figure-level function with similar flexibility) or `histplot` (an axes-level function for histograms).\n",
      "  warnings.warn(msg, FutureWarning)\n",
      "C:\\Users\\akhilesh rai\\anaconda3\\lib\\site-packages\\seaborn\\distributions.py:2619: FutureWarning: `distplot` is a deprecated function and will be removed in a future version. Please adapt your code to use either `displot` (a figure-level function with similar flexibility) or `histplot` (an axes-level function for histograms).\n",
      "  warnings.warn(msg, FutureWarning)\n"
     ]
    },
    {
     "data": {
      "image/png": "[encoded data removed]",
      "text/plain": [
       "<Figure size 1152x504 with 6 Axes>"
      ]
     },
     "metadata": {},
     "output_type": "display_data"
    }
   ],
   "source": [
    "sns.set_style('darkgrid',{'axes.edgecolor': '.9'},)\n",
    "f, ax = plt.subplots(2,3,figsize = (16,7))\n",
    "plt.rcParams[\"patch.force_edgecolor\"] = True\n",
    "vis1 = sns.distplot(df[\"inter canine distance intraoral\"],bins=10,color='mediumturquoise',\n",
    "hist_kws=dict(edgecolor=\"magenta\", linewidth=2.5),ax= ax[0][0])\n",
    "vis2 = sns.distplot(df[\"intercanine distance casts\"],bins=10,color='mediumturquoise', hist_kws=dict(edgecolor=\"magenta\",linewidth=2.5),ax=ax[0][1])\n",
    "vis3 = sns.distplot(df[\"right canine width intraoral\"],bins=10,color='mediumturquoise', hist_kws=dict(edgecolor=\"magenta\", linewidth=2.5),ax=ax[0][2])\n",
    "vis4 = sns.distplot(df[\"right canine width casts\"],bins=10,color='mediumturquoise', hist_kws=dict(edgecolor=\"magenta\", linewidth=2.5), ax=ax[1][0])\n",
    "vis5 =sns.distplot(df[\"left canine width intraoral\"],bins=10,color='mediumturquoise', hist_kws=dict(edgecolor=\"magenta\", linewidth=2.5),ax=ax[1][1])\n",
    "vis6 =sns.distplot(df[\"left canine width casts\"],bins=10,color='mediumturquoise', hist_kws=dict(edgecolor=\"magenta\", linewidth=2.5),ax=ax[1][2])"
   ]
  },
  {
   "cell_type": "code",
   "execution_count": 26,
   "id": "ef46dd24",
   "metadata": {},
   "outputs": [
    {
     "data": {
      "text/plain": [
       "(1077, 12)"
      ]
     },
     "execution_count": 26,
     "metadata": {},
     "output_type": "execute_result"
    }
   ],
   "source": [
    "df_1.shape"
   ]
  },
  {
   "cell_type": "code",
   "execution_count": 27,
   "id": "ff4fb80f",
   "metadata": {
    "scrolled": true
   },
   "outputs": [
    {
     "data": {
      "text/plain": [
       "(array([ 0,  1,  2,  3,  4,  5,  6,  7,  8,  9, 10, 11]),\n",
       " [Text(0, 0, 'Age'),\n",
       "  Text(1, 0, 'Gender'),\n",
       "  Text(2, 0, 'inter canine distance intraoral'),\n",
       "  Text(3, 0, 'intercanine distance casts'),\n",
       "  Text(4, 0, 'right canine width intraoral'),\n",
       "  Text(5, 0, 'right canine width casts'),\n",
       "  Text(6, 0, 'left canine width intraoral'),\n",
       "  Text(7, 0, 'left canine width casts'),\n",
       "  Text(8, 0, 'right canine index intra oral'),\n",
       "  Text(9, 0, 'right canine index casts'),\n",
       "  Text(10, 0, 'left canine index intraoral'),\n",
       "  Text(11, 0, 'left canine index casts')])"
      ]
     },
     "execution_count": 27,
     "metadata": {},
     "output_type": "execute_result"
    },
    {
     "data": {
      "image/png": "[encoded data removed]",
      "text/plain": [
       "<Figure size 1440x1440 with 1 Axes>"
      ]
     },
     "metadata": {},
     "output_type": "display_data"
    }
   ],
   "source": [
    "plt.figure(figsize=(20,20)) \n",
    "sns.boxplot(data=df_1)\n",
    "plt.xticks(rotation=90)"
   ]
  },
  {
   "cell_type": "code",
   "execution_count": 28,
   "id": "3a96539a",
   "metadata": {},
   "outputs": [
    {
     "data": {
      "text/html": [
       "<div>\n",
       "<style scoped>\n",
       "    .dataframe tbody tr th:only-of-type {\n",
       "        vertical-align: middle;\n",
       "    }\n",
       "\n",
       "    .dataframe tbody tr th {\n",
       "        vertical-align: top;\n",
       "    }\n",
       "\n",
       "    .dataframe thead th {\n",
       "        text-align: right;\n",
       "    }\n",
       "</style>\n",
       "<table border=\"1\" class=\"dataframe\">\n",
       "  <thead>\n",
       "    <tr style=\"text-align: right;\">\n",
       "      <th></th>\n",
       "      <th>Age</th>\n",
       "      <th>Gender</th>\n",
       "      <th>inter canine distance intraoral</th>\n",
       "      <th>intercanine distance casts</th>\n",
       "      <th>right canine width intraoral</th>\n",
       "      <th>right canine width casts</th>\n",
       "      <th>left canine width intraoral</th>\n",
       "      <th>left canine width casts</th>\n",
       "      <th>right canine index intra oral</th>\n",
       "      <th>right canine index casts</th>\n",
       "      <th>left canine index intraoral</th>\n",
       "      <th>left canine index casts</th>\n",
       "    </tr>\n",
       "  </thead>\n",
       "  <tbody>\n",
       "    <tr>\n",
       "      <th>0.25</th>\n",
       "      <td>20.0</td>\n",
       "      <td>0.0</td>\n",
       "      <td>24.99</td>\n",
       "      <td>24.97</td>\n",
       "      <td>6.29</td>\n",
       "      <td>6.30</td>\n",
       "      <td>6.40</td>\n",
       "      <td>6.40</td>\n",
       "      <td>0.242</td>\n",
       "      <td>0.242</td>\n",
       "      <td>0.247</td>\n",
       "      <td>0.247</td>\n",
       "    </tr>\n",
       "    <tr>\n",
       "      <th>0.50</th>\n",
       "      <td>22.0</td>\n",
       "      <td>1.0</td>\n",
       "      <td>25.89</td>\n",
       "      <td>25.89</td>\n",
       "      <td>6.52</td>\n",
       "      <td>6.52</td>\n",
       "      <td>6.66</td>\n",
       "      <td>6.67</td>\n",
       "      <td>0.253</td>\n",
       "      <td>0.253</td>\n",
       "      <td>0.255</td>\n",
       "      <td>0.255</td>\n",
       "    </tr>\n",
       "    <tr>\n",
       "      <th>0.75</th>\n",
       "      <td>23.0</td>\n",
       "      <td>1.0</td>\n",
       "      <td>26.98</td>\n",
       "      <td>26.98</td>\n",
       "      <td>6.80</td>\n",
       "      <td>6.80</td>\n",
       "      <td>6.90</td>\n",
       "      <td>6.92</td>\n",
       "      <td>0.262</td>\n",
       "      <td>0.261</td>\n",
       "      <td>0.264</td>\n",
       "      <td>0.264</td>\n",
       "    </tr>\n",
       "  </tbody>\n",
       "</table>\n",
       "</div>"
      ],
      "text/plain": [
       "       Age  Gender  inter canine distance intraoral  \\\n",
       "0.25  20.0     0.0                            24.99   \n",
       "0.50  22.0     1.0                            25.89   \n",
       "0.75  23.0     1.0                            26.98   \n",
       "\n",
       "      intercanine distance casts  right canine width intraoral  \\\n",
       "0.25                       24.97                          6.29   \n",
       "0.50                       25.89                          6.52   \n",
       "0.75                       26.98                          6.80   \n",
       "\n",
       "      right canine width casts  left canine width intraoral  \\\n",
       "0.25                      6.30                         6.40   \n",
       "0.50                      6.52                         6.66   \n",
       "0.75                      6.80                         6.90   \n",
       "\n",
       "      left canine width casts  right canine index intra oral  \\\n",
       "0.25                     6.40                          0.242   \n",
       "0.50                     6.67                          0.253   \n",
       "0.75                     6.92                          0.262   \n",
       "\n",
       "      right canine index casts  left canine index intraoral  \\\n",
       "0.25                     0.242                        0.247   \n",
       "0.50                     0.253                        0.255   \n",
       "0.75                     0.261                        0.264   \n",
       "\n",
       "      left canine index casts  \n",
       "0.25                    0.247  \n",
       "0.50                    0.255  \n",
       "0.75                    0.264  "
      ]
     },
     "execution_count": 28,
     "metadata": {},
     "output_type": "execute_result"
    }
   ],
   "source": [
    "df_1.quantile([.25,.5,.75],axis = 0)"
   ]
  },
  {
   "cell_type": "code",
   "execution_count": 29,
   "id": "557590ab",
   "metadata": {},
   "outputs": [
    {
     "data": {
      "text/html": [
       "<div>\n",
       "<style scoped>\n",
       "    .dataframe tbody tr th:only-of-type {\n",
       "        vertical-align: middle;\n",
       "    }\n",
       "\n",
       "    .dataframe tbody tr th {\n",
       "        vertical-align: top;\n",
       "    }\n",
       "\n",
       "    .dataframe thead th {\n",
       "        text-align: right;\n",
       "    }\n",
       "</style>\n",
       "<table border=\"1\" class=\"dataframe\">\n",
       "  <thead>\n",
       "    <tr style=\"text-align: right;\">\n",
       "      <th></th>\n",
       "      <th>Age</th>\n",
       "      <th>Gender</th>\n",
       "      <th>inter canine distance intraoral</th>\n",
       "      <th>intercanine distance casts</th>\n",
       "      <th>right canine width intraoral</th>\n",
       "      <th>right canine width casts</th>\n",
       "      <th>left canine width intraoral</th>\n",
       "      <th>left canine width casts</th>\n",
       "      <th>right canine index intra oral</th>\n",
       "      <th>right canine index casts</th>\n",
       "      <th>left canine index intraoral</th>\n",
       "      <th>left canine index casts</th>\n",
       "    </tr>\n",
       "  </thead>\n",
       "  <tbody>\n",
       "    <tr>\n",
       "      <th>count</th>\n",
       "      <td>1077.00000</td>\n",
       "      <td>1077.000000</td>\n",
       "      <td>1077.000000</td>\n",
       "      <td>1077.000000</td>\n",
       "      <td>1077.000000</td>\n",
       "      <td>1077.000000</td>\n",
       "      <td>1077.000000</td>\n",
       "      <td>1077.000000</td>\n",
       "      <td>1077.000000</td>\n",
       "      <td>1077.000000</td>\n",
       "      <td>1077.000000</td>\n",
       "      <td>1077.000000</td>\n",
       "    </tr>\n",
       "    <tr>\n",
       "      <th>mean</th>\n",
       "      <td>21.62117</td>\n",
       "      <td>0.501393</td>\n",
       "      <td>25.981188</td>\n",
       "      <td>25.869842</td>\n",
       "      <td>6.560149</td>\n",
       "      <td>6.561671</td>\n",
       "      <td>6.667604</td>\n",
       "      <td>6.673120</td>\n",
       "      <td>0.253104</td>\n",
       "      <td>0.252319</td>\n",
       "      <td>0.256456</td>\n",
       "      <td>0.256362</td>\n",
       "    </tr>\n",
       "    <tr>\n",
       "      <th>std</th>\n",
       "      <td>2.07289</td>\n",
       "      <td>0.500230</td>\n",
       "      <td>1.309747</td>\n",
       "      <td>1.867892</td>\n",
       "      <td>0.378103</td>\n",
       "      <td>0.376608</td>\n",
       "      <td>0.375512</td>\n",
       "      <td>0.376803</td>\n",
       "      <td>0.015395</td>\n",
       "      <td>0.012894</td>\n",
       "      <td>0.012358</td>\n",
       "      <td>0.012374</td>\n",
       "    </tr>\n",
       "    <tr>\n",
       "      <th>min</th>\n",
       "      <td>18.00000</td>\n",
       "      <td>0.000000</td>\n",
       "      <td>23.120000</td>\n",
       "      <td>6.540000</td>\n",
       "      <td>5.460000</td>\n",
       "      <td>5.460000</td>\n",
       "      <td>5.460000</td>\n",
       "      <td>5.460000</td>\n",
       "      <td>0.223000</td>\n",
       "      <td>0.223000</td>\n",
       "      <td>0.223000</td>\n",
       "      <td>0.223000</td>\n",
       "    </tr>\n",
       "    <tr>\n",
       "      <th>25%</th>\n",
       "      <td>20.00000</td>\n",
       "      <td>0.000000</td>\n",
       "      <td>24.990000</td>\n",
       "      <td>24.970000</td>\n",
       "      <td>6.290000</td>\n",
       "      <td>6.300000</td>\n",
       "      <td>6.400000</td>\n",
       "      <td>6.400000</td>\n",
       "      <td>0.242000</td>\n",
       "      <td>0.242000</td>\n",
       "      <td>0.247000</td>\n",
       "      <td>0.247000</td>\n",
       "    </tr>\n",
       "    <tr>\n",
       "      <th>50%</th>\n",
       "      <td>22.00000</td>\n",
       "      <td>1.000000</td>\n",
       "      <td>25.890000</td>\n",
       "      <td>25.890000</td>\n",
       "      <td>6.520000</td>\n",
       "      <td>6.520000</td>\n",
       "      <td>6.660000</td>\n",
       "      <td>6.670000</td>\n",
       "      <td>0.253000</td>\n",
       "      <td>0.253000</td>\n",
       "      <td>0.255000</td>\n",
       "      <td>0.255000</td>\n",
       "    </tr>\n",
       "    <tr>\n",
       "      <th>75%</th>\n",
       "      <td>23.00000</td>\n",
       "      <td>1.000000</td>\n",
       "      <td>26.980000</td>\n",
       "      <td>26.980000</td>\n",
       "      <td>6.800000</td>\n",
       "      <td>6.800000</td>\n",
       "      <td>6.900000</td>\n",
       "      <td>6.920000</td>\n",
       "      <td>0.262000</td>\n",
       "      <td>0.261000</td>\n",
       "      <td>0.264000</td>\n",
       "      <td>0.264000</td>\n",
       "    </tr>\n",
       "    <tr>\n",
       "      <th>max</th>\n",
       "      <td>25.00000</td>\n",
       "      <td>1.000000</td>\n",
       "      <td>30.310000</td>\n",
       "      <td>30.310000</td>\n",
       "      <td>7.610000</td>\n",
       "      <td>7.600000</td>\n",
       "      <td>7.810000</td>\n",
       "      <td>7.810000</td>\n",
       "      <td>0.363000</td>\n",
       "      <td>0.302000</td>\n",
       "      <td>0.305000</td>\n",
       "      <td>0.304000</td>\n",
       "    </tr>\n",
       "  </tbody>\n",
       "</table>\n",
       "</div>"
      ],
      "text/plain": [
       "              Age       Gender  inter canine distance intraoral  \\\n",
       "count  1077.00000  1077.000000                      1077.000000   \n",
       "mean     21.62117     0.501393                        25.981188   \n",
       "std       2.07289     0.500230                         1.309747   \n",
       "min      18.00000     0.000000                        23.120000   \n",
       "25%      20.00000     0.000000                        24.990000   \n",
       "50%      22.00000     1.000000                        25.890000   \n",
       "75%      23.00000     1.000000                        26.980000   \n",
       "max      25.00000     1.000000                        30.310000   \n",
       "\n",
       "       intercanine distance casts  right canine width intraoral  \\\n",
       "count                 1077.000000                   1077.000000   \n",
       "mean                    25.869842                      6.560149   \n",
       "std                      1.867892                      0.378103   \n",
       "min                      6.540000                      5.460000   \n",
       "25%                     24.970000                      6.290000   \n",
       "50%                     25.890000                      6.520000   \n",
       "75%                     26.980000                      6.800000   \n",
       "max                     30.310000                      7.610000   \n",
       "\n",
       "       right canine width casts  left canine width intraoral  \\\n",
       "count               1077.000000                  1077.000000   \n",
       "mean                   6.561671                     6.667604   \n",
       "std                    0.376608                     0.375512   \n",
       "min                    5.460000                     5.460000   \n",
       "25%                    6.300000                     6.400000   \n",
       "50%                    6.520000                     6.660000   \n",
       "75%                    6.800000                     6.900000   \n",
       "max                    7.600000                     7.810000   \n",
       "\n",
       "       left canine width casts  right canine index intra oral  \\\n",
       "count              1077.000000                    1077.000000   \n",
       "mean                  6.673120                       0.253104   \n",
       "std                   0.376803                       0.015395   \n",
       "min                   5.460000                       0.223000   \n",
       "25%                   6.400000                       0.242000   \n",
       "50%                   6.670000                       0.253000   \n",
       "75%                   6.920000                       0.262000   \n",
       "max                   7.810000                       0.363000   \n",
       "\n",
       "       right canine index casts  left canine index intraoral  \\\n",
       "count               1077.000000                  1077.000000   \n",
       "mean                   0.252319                     0.256456   \n",
       "std                    0.012894                     0.012358   \n",
       "min                    0.223000                     0.223000   \n",
       "25%                    0.242000                     0.247000   \n",
       "50%                    0.253000                     0.255000   \n",
       "75%                    0.261000                     0.264000   \n",
       "max                    0.302000                     0.305000   \n",
       "\n",
       "       left canine index casts  \n",
       "count              1077.000000  \n",
       "mean                  0.256362  \n",
       "std                   0.012374  \n",
       "min                   0.223000  \n",
       "25%                   0.247000  \n",
       "50%                   0.255000  \n",
       "75%                   0.264000  \n",
       "max                   0.304000  "
      ]
     },
     "execution_count": 29,
     "metadata": {},
     "output_type": "execute_result"
    }
   ],
   "source": [
    "df_1.describe()"
   ]
  },
  {
   "cell_type": "code",
   "execution_count": 30,
   "id": "81bc2858",
   "metadata": {},
   "outputs": [],
   "source": [
    "column = df_1.columns"
   ]
  },
  {
   "cell_type": "code",
   "execution_count": 31,
   "id": "fa62a810",
   "metadata": {},
   "outputs": [
    {
     "data": {
      "text/plain": [
       "Index(['Age', 'Gender', 'inter canine distance intraoral',\n",
       "       'intercanine distance casts', 'right canine width intraoral',\n",
       "       'right canine width casts', 'left canine width intraoral',\n",
       "       'left canine width casts', 'right canine index intra oral',\n",
       "       'right canine index casts', 'left canine index intraoral',\n",
       "       'left canine index casts'],\n",
       "      dtype='object')"
      ]
     },
     "execution_count": 31,
     "metadata": {},
     "output_type": "execute_result"
    }
   ],
   "source": [
    "column"
   ]
  },
  {
   "cell_type": "code",
   "execution_count": 32,
   "id": "3e5a3772",
   "metadata": {},
   "outputs": [],
   "source": [
    "IQR = df_1['inter canine distance intraoral'].quantile(0.75) - df_1['inter canine distance intraoral'].quantile(0.25)\n",
    "Upper_Limit = df_1['inter canine distance intraoral'].quantile(0.75) + 1.5 * IQR\n",
    "Lower_Limit = df_1['inter canine distance intraoral'].quantile(0.25) - 1.5 * IQR"
   ]
  },
  {
   "cell_type": "code",
   "execution_count": 33,
   "id": "3de6ed25",
   "metadata": {},
   "outputs": [
    {
     "name": "stdout",
     "output_type": "stream",
     "text": [
      "IQR is: 1.990000000000002\n"
     ]
    }
   ],
   "source": [
    "print('IQR is:',IQR)"
   ]
  },
  {
   "cell_type": "code",
   "execution_count": 34,
   "id": "c65f9743",
   "metadata": {},
   "outputs": [
    {
     "name": "stdout",
     "output_type": "stream",
     "text": [
      "Upper Limit is: 29.965000000000003\n"
     ]
    }
   ],
   "source": [
    "print('Upper Limit is:',Upper_Limit)"
   ]
  },
  {
   "cell_type": "code",
   "execution_count": 35,
   "id": "7e39ccf2",
   "metadata": {},
   "outputs": [
    {
     "name": "stdout",
     "output_type": "stream",
     "text": [
      "Lower Limit is: 22.004999999999995\n"
     ]
    }
   ],
   "source": [
    "print('Lower Limit is:',Lower_Limit)"
   ]
  },
  {
   "cell_type": "code",
   "execution_count": 36,
   "id": "bf20b6e4",
   "metadata": {},
   "outputs": [],
   "source": [
    "df_2 = df_1['inter canine distance intraoral']"
   ]
  },
  {
   "cell_type": "code",
   "execution_count": 37,
   "id": "1c33c2a6",
   "metadata": {},
   "outputs": [],
   "source": [
    "outlier = []\n",
    "for x in df_2:\n",
    "    if (x>Upper_Limit) or (x<Lower_Limit):\n",
    "        outlier.append(x)"
   ]
  },
  {
   "cell_type": "code",
   "execution_count": 38,
   "id": "0d91d36e",
   "metadata": {},
   "outputs": [
    {
     "name": "stdout",
     "output_type": "stream",
     "text": [
      "[30.31, 30.03]\n"
     ]
    }
   ],
   "source": [
    "print(outlier)"
   ]
  },
  {
   "cell_type": "code",
   "execution_count": 39,
   "id": "d4ae32c1",
   "metadata": {},
   "outputs": [],
   "source": [
    "def outliers(df,field):\n",
    "    IQR = df[field].quantile(0.75) - df[field].quantile(0.25)\n",
    "    Upper_Limit = df[field].quantile(0.65) + 1.5 * IQR\n",
    "    Lower_Limit = df[field].quantile(0.25) - 1.5 * IQR\n",
    "    ls = df.index[(df[field]<Lower_Limit) | (df[field]>Upper_Limit)]\n",
    "    return ls\n",
    "\n",
    "index_list = []\n",
    "\n",
    "for feature in column:\n",
    "    index_list.extend(outliers(df_1,feature))"
   ]
  },
  {
   "cell_type": "code",
   "execution_count": 40,
   "id": "7b79aa17",
   "metadata": {},
   "outputs": [
    {
     "data": {
      "text/plain": [
       "[66,\n",
       " 760,\n",
       " 762,\n",
       " 66,\n",
       " 90,\n",
       " 760,\n",
       " 762,\n",
       " 1000,\n",
       " 1001,\n",
       " 1002,\n",
       " 1003,\n",
       " 1004,\n",
       " 1005,\n",
       " 1006,\n",
       " 1007,\n",
       " 1008,\n",
       " 1009,\n",
       " 45,\n",
       " 54,\n",
       " 61,\n",
       " 559,\n",
       " 691,\n",
       " 700,\n",
       " 705,\n",
       " 710,\n",
       " 712,\n",
       " 715,\n",
       " 717,\n",
       " 731,\n",
       " 736,\n",
       " 767,\n",
       " 45,\n",
       " 54,\n",
       " 61,\n",
       " 559,\n",
       " 691,\n",
       " 700,\n",
       " 705,\n",
       " 710,\n",
       " 712,\n",
       " 715,\n",
       " 717,\n",
       " 731,\n",
       " 736,\n",
       " 767,\n",
       " 45,\n",
       " 54,\n",
       " 61,\n",
       " 550,\n",
       " 559,\n",
       " 640,\n",
       " 641,\n",
       " 644,\n",
       " 645,\n",
       " 649,\n",
       " 666,\n",
       " 691,\n",
       " 700,\n",
       " 710,\n",
       " 712,\n",
       " 715,\n",
       " 717,\n",
       " 731,\n",
       " 45,\n",
       " 54,\n",
       " 61,\n",
       " 550,\n",
       " 559,\n",
       " 641,\n",
       " 644,\n",
       " 645,\n",
       " 649,\n",
       " 666,\n",
       " 691,\n",
       " 700,\n",
       " 715,\n",
       " 717,\n",
       " 731,\n",
       " 34,\n",
       " 57,\n",
       " 422,\n",
       " 423,\n",
       " 428,\n",
       " 441,\n",
       " 442,\n",
       " 444,\n",
       " 446,\n",
       " 447,\n",
       " 485,\n",
       " 613,\n",
       " 673,\n",
       " 677,\n",
       " 679,\n",
       " 686,\n",
       " 692,\n",
       " 693,\n",
       " 706,\n",
       " 57,\n",
       " 613,\n",
       " 671,\n",
       " 673,\n",
       " 677,\n",
       " 679,\n",
       " 686,\n",
       " 692,\n",
       " 693,\n",
       " 706,\n",
       " 57,\n",
       " 62,\n",
       " 613,\n",
       " 671,\n",
       " 673,\n",
       " 677,\n",
       " 679,\n",
       " 686,\n",
       " 692,\n",
       " 693,\n",
       " 706,\n",
       " 721,\n",
       " 723,\n",
       " 724,\n",
       " 725,\n",
       " 728,\n",
       " 729,\n",
       " 739,\n",
       " 57,\n",
       " 62,\n",
       " 613,\n",
       " 671,\n",
       " 673,\n",
       " 677,\n",
       " 679,\n",
       " 686,\n",
       " 692,\n",
       " 693,\n",
       " 706,\n",
       " 721,\n",
       " 723,\n",
       " 724,\n",
       " 725,\n",
       " 728,\n",
       " 729,\n",
       " 739]"
      ]
     },
     "execution_count": 40,
     "metadata": {},
     "output_type": "execute_result"
    }
   ],
   "source": [
    "index_list"
   ]
  },
  {
   "cell_type": "code",
   "execution_count": 41,
   "id": "f99f5567",
   "metadata": {},
   "outputs": [],
   "source": [
    "def remove_outliers(df,ls):\n",
    "    ls = sorted(set(ls))\n",
    "    df = df.drop(ls)\n",
    "    return df"
   ]
  },
  {
   "cell_type": "code",
   "execution_count": 42,
   "id": "86cea650",
   "metadata": {},
   "outputs": [],
   "source": [
    "df_1 = remove_outliers(df_1,index_list)"
   ]
  },
  {
   "cell_type": "code",
   "execution_count": 43,
   "id": "e7b7d28b",
   "metadata": {},
   "outputs": [
    {
     "data": {
      "text/plain": [
       "(1014, 12)"
      ]
     },
     "execution_count": 43,
     "metadata": {},
     "output_type": "execute_result"
    }
   ],
   "source": [
    "df_1.shape"
   ]
  },
  {
   "cell_type": "code",
   "execution_count": 44,
   "id": "56ad2aa6",
   "metadata": {},
   "outputs": [
    {
     "data": {
      "text/plain": [
       "(array([ 0,  1,  2,  3,  4,  5,  6,  7,  8,  9, 10, 11]),\n",
       " [Text(0, 0, 'Age'),\n",
       "  Text(1, 0, 'Gender'),\n",
       "  Text(2, 0, 'inter canine distance intraoral'),\n",
       "  Text(3, 0, 'intercanine distance casts'),\n",
       "  Text(4, 0, 'right canine width intraoral'),\n",
       "  Text(5, 0, 'right canine width casts'),\n",
       "  Text(6, 0, 'left canine width intraoral'),\n",
       "  Text(7, 0, 'left canine width casts'),\n",
       "  Text(8, 0, 'right canine index intra oral'),\n",
       "  Text(9, 0, 'right canine index casts'),\n",
       "  Text(10, 0, 'left canine index intraoral'),\n",
       "  Text(11, 0, 'left canine index casts')])"
      ]
     },
     "execution_count": 44,
     "metadata": {},
     "output_type": "execute_result"
    },
    {
     "data": {
      "image/png": "[encoded data removed]",
      "text/plain": [
       "<Figure size 1440x1440 with 1 Axes>"
      ]
     },
     "metadata": {},
     "output_type": "display_data"
    }
   ],
   "source": [
    "plt.figure(figsize=(20,20)) \n",
    "sns.boxplot(data=df_1)\n",
    "plt.xticks(rotation=90)"
   ]
  },
  {
   "cell_type": "code",
   "execution_count": 45,
   "id": "1d99ab4d",
   "metadata": {},
   "outputs": [],
   "source": [
    "X = df_1.drop('Gender', axis = 1)\n",
    "Y = df_1['Gender']"
   ]
  },
  {
   "cell_type": "code",
   "execution_count": 46,
   "id": "771d06db",
   "metadata": {},
   "outputs": [
    {
     "data": {
      "text/plain": [
       "(1014, 11)"
      ]
     },
     "execution_count": 46,
     "metadata": {},
     "output_type": "execute_result"
    }
   ],
   "source": [
    "X.shape"
   ]
  },
  {
   "cell_type": "code",
   "execution_count": 47,
   "id": "67a9efe8",
   "metadata": {},
   "outputs": [
    {
     "data": {
      "text/plain": [
       "(1014,)"
      ]
     },
     "execution_count": 47,
     "metadata": {},
     "output_type": "execute_result"
    }
   ],
   "source": [
    "Y.shape"
   ]
  },
  {
   "cell_type": "code",
   "execution_count": 48,
   "id": "fb8aacf9",
   "metadata": {},
   "outputs": [],
   "source": [
    "from sklearn.model_selection import train_test_split"
   ]
  },
  {
   "cell_type": "code",
   "execution_count": 49,
   "id": "82d9ef35",
   "metadata": {},
   "outputs": [],
   "source": [
    "X_train,X_test,Y_train,Y_test = train_test_split(X,Y,train_size = 0.8,stratify=Y,random_state = 12345)"
   ]
  },
  {
   "cell_type": "code",
   "execution_count": 50,
   "id": "9d37826d",
   "metadata": {},
   "outputs": [
    {
     "data": {
      "text/plain": [
       "(811, 11)"
      ]
     },
     "execution_count": 50,
     "metadata": {},
     "output_type": "execute_result"
    }
   ],
   "source": [
    "X_train.shape"
   ]
  },
  {
   "cell_type": "code",
   "execution_count": 51,
   "id": "2133d8ed",
   "metadata": {},
   "outputs": [
    {
     "data": {
      "text/plain": [
       "(203, 11)"
      ]
     },
     "execution_count": 51,
     "metadata": {},
     "output_type": "execute_result"
    }
   ],
   "source": [
    "X_test.shape"
   ]
  },
  {
   "cell_type": "code",
   "execution_count": 52,
   "id": "f1e87417",
   "metadata": {},
   "outputs": [
    {
     "data": {
      "text/plain": [
       "(811,)"
      ]
     },
     "execution_count": 52,
     "metadata": {},
     "output_type": "execute_result"
    }
   ],
   "source": [
    "Y_train.shape"
   ]
  },
  {
   "cell_type": "code",
   "execution_count": 53,
   "id": "10f70592",
   "metadata": {},
   "outputs": [
    {
     "data": {
      "text/plain": [
       "(203,)"
      ]
     },
     "execution_count": 53,
     "metadata": {},
     "output_type": "execute_result"
    }
   ],
   "source": [
    "Y_test.shape"
   ]
  },
  {
   "cell_type": "code",
   "execution_count": 54,
   "id": "dc312b62",
   "metadata": {},
   "outputs": [],
   "source": [
    "from sklearn import preprocessing\n",
    "import matplotlib.pyplot as plt \n",
    "plt.rc(\"font\", size=14)\n",
    "from sklearn.linear_model import LogisticRegression\n",
    "sns.set(style=\"white\")\n",
    "sns.set(style=\"whitegrid\", color_codes=True)"
   ]
  },
  {
   "cell_type": "code",
   "execution_count": 55,
   "id": "01d28281",
   "metadata": {},
   "outputs": [
    {
     "name": "stderr",
     "output_type": "stream",
     "text": [
      "C:\\Users\\akhilesh rai\\anaconda3\\lib\\site-packages\\sklearn\\linear_model\\_logistic.py:814: ConvergenceWarning: lbfgs failed to converge (status=1):\n",
      "STOP: TOTAL NO. of ITERATIONS REACHED LIMIT.\n",
      "\n",
      "Increase the number of iterations (max_iter) or scale the data as shown in:\n",
      "    https://scikit-learn.org/stable/modules/preprocessing.html\n",
      "Please also refer to the documentation for alternative solver options:\n",
      "    https://scikit-learn.org/stable/modules/linear_model.html#logistic-regression\n",
      "  n_iter_i = _check_optimize_result(\n"
     ]
    },
    {
     "data": {
      "image/png": "[encoded data removed]",
      "text/plain": [
       "<Figure size 432x288 with 1 Axes>"
      ]
     },
     "metadata": {},
     "output_type": "display_data"
    },
    {
     "data": {
      "text/plain": [
       "0.7972789115646257"
      ]
     },
     "execution_count": 55,
     "metadata": {},
     "output_type": "execute_result"
    }
   ],
   "source": [
    "from sklearn.metrics import roc_auc_score\n",
    "from sklearn.metrics import roc_curve\n",
    "logreg = LogisticRegression()\n",
    "logreg.fit(X_train, Y_train)\n",
    "logit_roc_auc = roc_auc_score(Y_test, logreg.predict(X_test))\n",
    "fpr, tpr, thresholds = roc_curve(Y_test, logreg.predict_proba(X_test)[:,1])\n",
    "plt.figure()\n",
    "plt.plot(fpr, tpr, label='Logistic Regression (area = %0.2f)' % logit_roc_auc)\n",
    "plt.plot([0, 1], [0, 1],'r--')\n",
    "plt.xlim([0.0, 1.0])\n",
    "plt.ylim([0.0, 1.05])\n",
    "plt.show()\n",
    "logit_roc_auc"
   ]
  },
  {
   "cell_type": "code",
   "execution_count": 56,
   "id": "c85d0da7",
   "metadata": {},
   "outputs": [],
   "source": [
    "from sklearn.neighbors import KNeighborsClassifier\n",
    "from sklearn.metrics import accuracy_score"
   ]
  },
  {
   "cell_type": "code",
   "execution_count": 57,
   "id": "1e93b44f",
   "metadata": {},
   "outputs": [
    {
     "data": {
      "text/plain": [
       "KNeighborsClassifier(metric='euclidean', n_neighbors=8)"
      ]
     },
     "execution_count": 57,
     "metadata": {},
     "output_type": "execute_result"
    }
   ],
   "source": [
    "knn = KNeighborsClassifier(n_neighbors=8,metric='euclidean')\n",
    "knn.fit(X_train,Y_train)"
   ]
  },
  {
   "cell_type": "code",
   "execution_count": 58,
   "id": "69a8413a",
   "metadata": {},
   "outputs": [
    {
     "name": "stdout",
     "output_type": "stream",
     "text": [
      "Accuracy when k=1 = 0.9014778325123153\n",
      "Accuracy when k=2 = 0.8669950738916257\n",
      "Accuracy when k=3 = 0.8768472906403941\n",
      "Accuracy when k=4 = 0.8472906403940886\n",
      "Accuracy when k=5 = 0.8423645320197044\n",
      "Accuracy when k=6 = 0.8029556650246306\n",
      "Accuracy when k=7 = 0.8275862068965517\n",
      "Accuracy when k=8 = 0.812807881773399\n",
      "Accuracy when k=9 = 0.812807881773399\n",
      "0.9014778325123153\n"
     ]
    }
   ],
   "source": [
    "import warnings\n",
    "warnings.filterwarnings(\"ignore\")\n",
    "b=[]\n",
    "for i in range(1,10):\n",
    "    knn = KNeighborsClassifier(n_neighbors=i,metric='euclidean')\n",
    "    knn.fit(X_train,Y_train)\n",
    "    Y_pred = knn.predict(X_test)\n",
    "    a=accuracy_score(Y_test,Y_pred)\n",
    "    print(f\"Accuracy when k={i} = {a}\")\n",
    "    b.append(accuracy_score(Y_test,Y_pred))\n",
    "print(max(b)) "
   ]
  },
  {
   "cell_type": "code",
   "execution_count": 59,
   "id": "70aea110",
   "metadata": {},
   "outputs": [
    {
     "name": "stdout",
     "output_type": "stream",
     "text": [
      "Feature: 0, Score: 0.12702169625246548\n",
      "Feature: 1, Score: 0.09861932938856018\n",
      "Feature: 2, Score: 0.09763313609467457\n",
      "Feature: 3, Score: 0.036489151873767264\n",
      "Feature: 4, Score: 0.03471400394477318\n",
      "Feature: 5, Score: 0.040039447731755454\n",
      "Feature: 6, Score: 0.042209072978303765\n",
      "Feature: 7, Score: 0.0\n",
      "Feature: 8, Score: 0.0\n",
      "Feature: 9, Score: 0.0\n",
      "Feature: 10, Score: 0.0\n"
     ]
    },
    {
     "data": {
      "image/png": "[encoded data removed]",
      "text/plain": [
       "<Figure size 432x288 with 1 Axes>"
      ]
     },
     "metadata": {},
     "output_type": "display_data"
    }
   ],
   "source": [
    "from sklearn.inspection import permutation_importance\n",
    "results = permutation_importance(knn, X, Y, scoring='accuracy')\n",
    "importance = results.importances_mean\n",
    "\n",
    "for i,v in enumerate(importance):\n",
    "    print(f'Feature: {i}, Score: {v}')\n",
    "\n",
    "plt.bar([x for x in range(len(importance))], importance)\n",
    "plt.show()"
   ]
  },
  {
   "cell_type": "code",
   "execution_count": 60,
   "id": "f882de5d",
   "metadata": {},
   "outputs": [],
   "source": [
    "from sklearn.linear_model import RidgeClassifier\n",
    "from sklearn.metrics import confusion_matrix, accuracy_score, log_loss\n",
    "from sklearn.model_selection import GridSearchCV\n",
    "from sklearn.datasets import make_classification\n",
    "from sklearn.model_selection import cross_val_score\n",
    "from sklearn.metrics import confusion_matrix\n",
    "from sklearn.metrics import classification_report"
   ]
  },
  {
   "cell_type": "code",
   "execution_count": 61,
   "id": "81214a94",
   "metadata": {},
   "outputs": [
    {
     "name": "stdout",
     "output_type": "stream",
     "text": [
      "RidgeClassifier()\n",
      "Score:  0.8076448828606658\n",
      "CV average score: 0.80\n",
      "[[84 21]\n",
      " [22 76]]\n",
      "              precision    recall  f1-score   support\n",
      "\n",
      "           0       0.79      0.80      0.80       105\n",
      "           1       0.78      0.78      0.78        98\n",
      "\n",
      "    accuracy                           0.79       203\n",
      "   macro avg       0.79      0.79      0.79       203\n",
      "weighted avg       0.79      0.79      0.79       203\n",
      "\n"
     ]
    }
   ],
   "source": [
    "rc = RidgeClassifier()\n",
    "print(rc)\n",
    "\n",
    "rc.fit(X_train, Y_train)\n",
    "score = rc.score(X_train, Y_train)\n",
    "print(\"Score: \", score)\n",
    "\n",
    "cv_scores = cross_val_score(rc, X_train, Y_train, cv=10)\n",
    "print(\"CV average score: %.2f\" % cv_scores.mean())\n",
    "\n",
    "Y_pred = rc.predict(X_test)\n",
    "\n",
    "cm = confusion_matrix(Y_test, Y_pred)\n",
    "print(cm)\n",
    "\n",
    "cr = classification_report(Y_test, Y_pred)\n",
    "print(cr) \n",
    " "
   ]
  },
  {
   "cell_type": "code",
   "execution_count": 62,
   "id": "8164cfc3",
   "metadata": {},
   "outputs": [],
   "source": [
    "from sklearn.linear_model import Lasso\n",
    "from sklearn.metrics import mean_squared_error\n",
    "from sklearn.metrics import r2_score\n",
    "model_lasso = Lasso(alpha=0.01)\n",
    "model_lasso.fit(X_train, Y_train) \n",
    "pred_train_lasso= model_lasso.predict(X_train)\n",
    "pred_test_lasso= model_lasso.predict(X_test) "
   ]
  },
  {
   "cell_type": "code",
   "execution_count": 63,
   "id": "7c9a75f0",
   "metadata": {},
   "outputs": [
    {
     "name": "stdout",
     "output_type": "stream",
     "text": [
      "0.39553884539652817\n"
     ]
    }
   ],
   "source": [
    "print(np.sqrt(mean_squared_error(Y_train,pred_train_lasso)))"
   ]
  },
  {
   "cell_type": "code",
   "execution_count": 64,
   "id": "db085d2d",
   "metadata": {},
   "outputs": [
    {
     "name": "stdout",
     "output_type": "stream",
     "text": [
      "0.3735016935106038\n"
     ]
    }
   ],
   "source": [
    "print(r2_score(Y_train, pred_train_lasso))"
   ]
  },
  {
   "cell_type": "code",
   "execution_count": 65,
   "id": "b6c2e18a",
   "metadata": {},
   "outputs": [
    {
     "name": "stdout",
     "output_type": "stream",
     "text": [
      "0.3867933706463935\n"
     ]
    }
   ],
   "source": [
    "print(np.sqrt(mean_squared_error(Y_test,pred_test_lasso)))"
   ]
  },
  {
   "cell_type": "code",
   "execution_count": 66,
   "id": "1795def5",
   "metadata": {},
   "outputs": [
    {
     "name": "stdout",
     "output_type": "stream",
     "text": [
      "0.4008511293551682\n"
     ]
    }
   ],
   "source": [
    "print(r2_score(Y_test, pred_test_lasso))"
   ]
  },
  {
   "cell_type": "code",
   "execution_count": 67,
   "id": "3bcc7647",
   "metadata": {},
   "outputs": [],
   "source": [
    "from numpy import loadtxt\n",
    "from xgboost import XGBClassifier\n",
    "from sklearn.model_selection import train_test_split\n",
    "from sklearn.metrics import accuracy_score"
   ]
  },
  {
   "cell_type": "code",
   "execution_count": 68,
   "id": "d86fc0ee",
   "metadata": {},
   "outputs": [],
   "source": [
    "X_train, X_test, Y_train, Y_test = train_test_split(X, Y, test_size=0.33, random_state=7)"
   ]
  },
  {
   "cell_type": "code",
   "execution_count": 69,
   "id": "327977a4",
   "metadata": {},
   "outputs": [
    {
     "data": {
      "text/plain": [
       "XGBClassifier(base_score=0.5, booster='gbtree', callbacks=None,\n",
       "              colsample_bylevel=1, colsample_bynode=1, colsample_bytree=1,\n",
       "              early_stopping_rounds=None, enable_categorical=False,\n",
       "              eval_metric=None, gamma=0, gpu_id=-1, grow_policy='depthwise',\n",
       "              importance_type=None, interaction_constraints='',\n",
       "              learning_rate=0.300000012, max_bin=256, max_cat_to_onehot=4,\n",
       "              max_delta_step=0, max_depth=6, max_leaves=0, min_child_weight=1,\n",
       "              missing=nan, monotone_constraints='()', n_estimators=100,\n",
       "              n_jobs=0, num_parallel_tree=1, predictor='auto', random_state=0,\n",
       "              reg_alpha=0, reg_lambda=1, ...)"
      ]
     },
     "execution_count": 69,
     "metadata": {},
     "output_type": "execute_result"
    }
   ],
   "source": [
    "XGB = XGBClassifier()\n",
    "XGB.fit(X_train, Y_train)"
   ]
  },
  {
   "cell_type": "code",
   "execution_count": 70,
   "id": "a4e51e3e",
   "metadata": {},
   "outputs": [],
   "source": [
    "Y_pred = XGB.predict(X_test)\n",
    "predictions = [round(value) for value in Y_pred]"
   ]
  },
  {
   "cell_type": "code",
   "execution_count": 71,
   "id": "6a52644a",
   "metadata": {},
   "outputs": [
    {
     "name": "stdout",
     "output_type": "stream",
     "text": [
      "Accuracy: 89.85%\n"
     ]
    }
   ],
   "source": [
    "accuracy = accuracy_score(Y_test, predictions)\n",
    "print(\"Accuracy: %.2f%%\" % (accuracy * 100.0))"
   ]
  },
  {
   "cell_type": "code",
   "execution_count": 72,
   "id": "fe9da53e",
   "metadata": {},
   "outputs": [],
   "source": [
    "from sklearn.ensemble import AdaBoostClassifier"
   ]
  },
  {
   "cell_type": "code",
   "execution_count": 73,
   "id": "8833b1ae",
   "metadata": {},
   "outputs": [
    {
     "name": "stdout",
     "output_type": "stream",
     "text": [
      "Accuracy: 0.6149253731343284\n"
     ]
    }
   ],
   "source": [
    "# Import Support Vector Classifier\n",
    "from sklearn.svm import SVC\n",
    "#Import scikit-learn metrics module for accuracy calculation\n",
    "from sklearn import metrics\n",
    "svc=SVC(probability=True, kernel='linear')\n",
    "\n",
    "# Create adaboost classifer object\n",
    "abc =AdaBoostClassifier(n_estimators=50, base_estimator=svc,learning_rate=1)\n",
    "\n",
    "# Train Adaboost Classifer\n",
    "model = abc.fit(X_train, Y_train)\n",
    "\n",
    "#Predict the response for test dataset\n",
    "Y_pred = model.predict(X_test)\n",
    "\n",
    "\n",
    "# Model Accuracy, how often is the classifier correct?\n",
    "print(\"Accuracy:\",metrics.accuracy_score(Y_test, Y_pred))"
   ]
  },
  {
   "cell_type": "code",
   "execution_count": 74,
   "id": "e80633be",
   "metadata": {},
   "outputs": [],
   "source": [
    "X_train, X_test, Y_train, Y_test = train_test_split(X, Y, test_size=0.3)"
   ]
  },
  {
   "cell_type": "code",
   "execution_count": 75,
   "id": "f97a2b7b",
   "metadata": {},
   "outputs": [],
   "source": [
    "# Create adaboost classifer object\n",
    "abc = AdaBoostClassifier(n_estimators=50,\n",
    "                         learning_rate=1)\n",
    "# Train Adaboost Classifer\n",
    "ADA = abc.fit(X_train, Y_train)\n",
    "\n",
    "#Predict the response for test dataset\n",
    "Y_pred = ADA.predict(X_test)"
   ]
  },
  {
   "cell_type": "code",
   "execution_count": 76,
   "id": "01af842b",
   "metadata": {},
   "outputs": [
    {
     "name": "stdout",
     "output_type": "stream",
     "text": [
      "Accuracy: 0.7377049180327869\n"
     ]
    }
   ],
   "source": [
    "print(\"Accuracy:\",metrics.accuracy_score(Y_test, Y_pred))"
   ]
  },
  {
   "cell_type": "code",
   "execution_count": 77,
   "id": "b5766f8c",
   "metadata": {},
   "outputs": [],
   "source": [
    "# Split dataset into training set and test set\n",
    "X_train, X_test, Y_train, Y_test = train_test_split(X,Y, test_size=0.3,random_state=109)"
   ]
  },
  {
   "cell_type": "code",
   "execution_count": 78,
   "id": "b0f97716",
   "metadata": {},
   "outputs": [],
   "source": [
    "#Import svm model\n",
    "from sklearn import svm\n",
    "\n",
    "#Create a svm Classifier\n",
    "clf = svm.SVC(kernel='linear') # Linear Kernel\n",
    "\n",
    "#Train the model using the training sets\n",
    "clf.fit(X_train, Y_train)\n",
    "\n",
    "#Predict the response for test dataset\n",
    "Y_pred = clf.predict(X_test)"
   ]
  },
  {
   "cell_type": "code",
   "execution_count": 79,
   "id": "106b1b42",
   "metadata": {},
   "outputs": [
    {
     "name": "stdout",
     "output_type": "stream",
     "text": [
      "Accuracy: 0.8262295081967214\n"
     ]
    }
   ],
   "source": [
    "# Model Accuracy: how often is the classifier correct?\n",
    "print(\"Accuracy:\",metrics.accuracy_score(Y_test, Y_pred))"
   ]
  },
  {
   "cell_type": "code",
   "execution_count": 80,
   "id": "09b4ac3e",
   "metadata": {},
   "outputs": [
    {
     "name": "stdout",
     "output_type": "stream",
     "text": [
      "Precision: 0.8287671232876712\n",
      "Recall: 0.8120805369127517\n"
     ]
    }
   ],
   "source": [
    "print(\"Precision:\",metrics.precision_score(Y_test, Y_pred))\n",
    "\n",
    "print(\"Recall:\",metrics.recall_score(Y_test, Y_pred))"
   ]
  },
  {
   "cell_type": "code",
   "execution_count": 82,
   "id": "175c6e24",
   "metadata": {},
   "outputs": [],
   "source": [
    "from sklearn.ensemble import RandomForestClassifier\n",
    "naive_rfc = RandomForestClassifier()\n",
    "naive_rfc.fit(X_train, Y_train)\n",
    "naive_test_preds = naive_rfc.predict(X_test)"
   ]
  },
  {
   "cell_type": "code",
   "execution_count": 84,
   "id": "4affa6eb",
   "metadata": {},
   "outputs": [],
   "source": [
    "from sklearn.metrics import precision_score\n",
    "from sklearn.metrics import recall_score"
   ]
  },
  {
   "cell_type": "code",
   "execution_count": 85,
   "id": "3b389758",
   "metadata": {},
   "outputs": [
    {
     "name": "stdout",
     "output_type": "stream",
     "text": [
      "The accuracy is 0.898360655737705\n",
      "The precision is 0.8734177215189873\n",
      "The recall is 0.9261744966442953\n"
     ]
    }
   ],
   "source": [
    "print(\"The accuracy is {}\".format(accuracy_score(Y_test, naive_test_preds)))\n",
    "print(\"The precision is {}\".format(precision_score(Y_test, naive_test_preds)))\n",
    "print(\"The recall is {}\".format(recall_score(Y_test, naive_test_preds)))"
   ]
  },
  {
   "cell_type": "code",
   "execution_count": 86,
   "id": "0cd8fe8b",
   "metadata": {},
   "outputs": [],
   "source": [
    "from sklearn.model_selection import GridSearchCV"
   ]
  },
  {
   "cell_type": "code",
   "execution_count": 93,
   "id": "e250831e",
   "metadata": {},
   "outputs": [],
   "source": [
    "def print_results(results):\n",
    "    print('Best Param:{}\\n'.format(results.best_params_))\n",
    "    \n",
    "    means = results.cv_results_['mean_test_score']\n",
    "    stds = results.cv_results_['std_test_score']\n",
    "    \n",
    "    for means,stds,params in zip(means,stds,results.cv_results_['params']):\n",
    "        print('{}(+/-{} for {})'.format(round(means,3),round(stds*2,3),params))"
   ]
  },
  {
   "cell_type": "code",
   "execution_count": 94,
   "id": "7ca36ee5",
   "metadata": {},
   "outputs": [
    {
     "name": "stdout",
     "output_type": "stream",
     "text": [
      "Best Param:{'n_estimators': 400}\n",
      "\n",
      "0.89(+/-0.063 for {'n_estimators': 50})\n",
      "0.9(+/-0.038 for {'n_estimators': 100})\n",
      "0.901(+/-0.046 for {'n_estimators': 300})\n",
      "0.903(+/-0.05 for {'n_estimators': 400})\n"
     ]
    }
   ],
   "source": [
    "rf = RandomForestClassifier(oob_score = True)\n",
    "parameters = {'n_estimators':[50,100,300,400],}\n",
    "cv = GridSearchCV(rf,parameters,cv=11)\n",
    "cv.fit(X_train, Y_train.values.ravel())\n",
    "print_results(cv)"
   ]
  },
  {
   "cell_type": "code",
   "execution_count": 98,
   "id": "30915615",
   "metadata": {},
   "outputs": [
    {
     "data": {
      "text/plain": [
       "0.9016393442622951"
      ]
     },
     "execution_count": 98,
     "metadata": {},
     "output_type": "execute_result"
    }
   ],
   "source": [
    "cv.score(X_test,Y_test)"
   ]
  },
  {
   "cell_type": "code",
   "execution_count": 99,
   "id": "190bf208",
   "metadata": {},
   "outputs": [
    {
     "data": {
      "text/plain": [
       "1.0"
      ]
     },
     "execution_count": 99,
     "metadata": {},
     "output_type": "execute_result"
    }
   ],
   "source": [
    "cv.score(X_train,Y_train)"
   ]
  },
  {
   "cell_type": "code",
   "execution_count": 100,
   "id": "f8c2b580",
   "metadata": {},
   "outputs": [
    {
     "data": {
      "text/plain": [
       "GridSearchCV(cv=11, estimator=RandomForestClassifier(oob_score=True),\n",
       "             param_grid={'n_estimators': [50, 100, 300, 400]})"
      ]
     },
     "execution_count": 100,
     "metadata": {},
     "output_type": "execute_result"
    }
   ],
   "source": [
    "cv"
   ]
  },
  {
   "cell_type": "code",
   "execution_count": 101,
   "id": "7e32413b",
   "metadata": {},
   "outputs": [
    {
     "data": {
      "text/plain": [
       "RandomForestClassifier(n_estimators=400)"
      ]
     },
     "execution_count": 101,
     "metadata": {},
     "output_type": "execute_result"
    }
   ],
   "source": [
    "rf = RandomForestClassifier(n_estimators = 400)\n",
    "rf.fit(X_train, Y_train)"
   ]
  },
  {
   "cell_type": "code",
   "execution_count": 102,
   "id": "1b0d0fab",
   "metadata": {},
   "outputs": [
    {
     "name": "stdout",
     "output_type": "stream",
     "text": [
      "Train Accuracy : 1.0\n",
      "Test Accuracy : 0.8918032786885246\n"
     ]
    }
   ],
   "source": [
    "print(\"Train Accuracy :\",rf.score(X_train, Y_train))\n",
    "print(\"Test Accuracy :\",rf.score(X_test, Y_test))"
   ]
  },
  {
   "cell_type": "code",
   "execution_count": 103,
   "id": "068bfdfb",
   "metadata": {},
   "outputs": [],
   "source": [
    "y_pred_test = rf.predict(X_test)"
   ]
  },
  {
   "cell_type": "code",
   "execution_count": 105,
   "id": "c0997678",
   "metadata": {},
   "outputs": [
    {
     "name": "stdout",
     "output_type": "stream",
     "text": [
      "              precision    recall  f1-score   support\n",
      "\n",
      "           0       0.82      0.84      0.83       156\n",
      "           1       0.83      0.81      0.82       149\n",
      "\n",
      "    accuracy                           0.83       305\n",
      "   macro avg       0.83      0.83      0.83       305\n",
      "weighted avg       0.83      0.83      0.83       305\n",
      "\n"
     ]
    }
   ],
   "source": [
    "print(classification_report(Y_test, Y_pred))"
   ]
  },
  {
   "cell_type": "code",
   "execution_count": null,
   "id": "189a3292",
   "metadata": {},
   "outputs": [],
   "source": []
  }
 ],
 "metadata": {
  "kernelspec": {
   "display_name": "Python 3 (ipykernel)",
   "language": "python",
   "name": "python3"
  },
  "language_info": {
   "codemirror_mode": {
    "name": "ipython",
    "version": 3
   },
   "file_extension": ".py",
   "mimetype": "text/x-python",
   "name": "python",
   "nbconvert_exporter": "python",
   "pygments_lexer": "ipython3",
   "version": "3.9.12"
  }
 },
 "nbformat": 4,
 "nbformat_minor": 5
}
